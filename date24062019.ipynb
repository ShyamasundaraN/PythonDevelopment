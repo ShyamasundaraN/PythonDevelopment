{
 "cells": [
  {
   "cell_type": "markdown",
   "metadata": {
    "collapsed": true
   },
   "source": [
    "# linked list"
   ]
  },
  {
   "cell_type": "code",
   "execution_count": 1,
   "metadata": {
    "collapsed": true
   },
   "outputs": [],
   "source": [
    "class Node(object):\n",
    "    #Empty node\n",
    "    def __init__(self,data):\n",
    "        self.data = data\n",
    "        self.next_node = None"
   ]
  },
  {
   "cell_type": "code",
   "execution_count": 7,
   "metadata": {},
   "outputs": [
    {
     "name": "stdout",
     "output_type": "stream",
     "text": [
      "3\n",
      "122\n",
      "12\n",
      "31\n",
      "4 4\n"
     ]
    }
   ],
   "source": [
    "class LinkedList(object):\n",
    "    def __init__(self):\n",
    "        self.head = None\n",
    "        self.size = 0\n",
    "        \n",
    "    def insert_start(self, data):\n",
    "        '''\n",
    "            Insert at the beginning.\n",
    "            New node becomes head node.\n",
    "        '''\n",
    "        self.size = self.size + 1\n",
    "        new_node = Node(data)\n",
    "        \n",
    "        if not self.head:\n",
    "            self.head = new_node\n",
    "        else:\n",
    "            new_node.next_node = self.head\n",
    "            self.head = new_node\n",
    "            \n",
    "    def remove(self,data):\n",
    "        '''\n",
    "            Remove node:  GC will remove the node.\n",
    "        '''\n",
    "        \n",
    "        if self.head is None:\n",
    "            return\n",
    "        \n",
    "        size = self.size - 1\n",
    "        \n",
    "        current_node = self.head\n",
    "        previous_node = None\n",
    "        \n",
    "        while current_node.data != data:\n",
    "            previous_node = current_node\n",
    "            current_node = current_node.next_node\n",
    "            \n",
    "            if previous_node is None:\n",
    "                self.head = current_node.next_node\n",
    "            else:\n",
    "                previous_node.next_node = current_node.next_node\n",
    "        \n",
    "    def size1(self):\n",
    "        return self.size\n",
    "    \n",
    "    def size2(self):\n",
    "        '''\n",
    "        Count number of nodes\n",
    "        '''\n",
    "        actual_node = self.head\n",
    "        size = 0\n",
    "        while actual_node is not None:\n",
    "            size += 1\n",
    "            actual_node = actual_node.next_node\n",
    "        return size\n",
    "    \n",
    "    def insert_end(self,data):\n",
    "        self.size = self.size + 1\n",
    "        \n",
    "        #new node\n",
    "        new_node = Node(data)\n",
    "        actual_node = self.head\n",
    "        \n",
    "        while actual_node.next_node is not None:\n",
    "            actual_node = actual_node.next_node\n",
    "        \n",
    "        #last node\n",
    "        actual_node.next_node = new_node\n",
    "        \n",
    "    def traverse_list(self):\n",
    "        actual_node = self.head\n",
    "        \n",
    "        while actual_node is not None:\n",
    "            print('%d'%(actual_node.data))\n",
    "            actual_node = actual_node.next_node\n",
    "\n",
    "linkedlist = LinkedList();\n",
    "linkedlist.insert_start(12)\n",
    "linkedlist.insert_start(122);\n",
    "linkedlist.insert_start(3);\n",
    "linkedlist.insert_end(31);\n",
    "\n",
    "linkedlist.traverse_list();\n",
    "\n",
    "a=linkedlist.size1();\n",
    "b=linkedlist.size2();\n",
    "print(a,b)"
   ]
  },
  {
   "cell_type": "code",
   "execution_count": null,
   "metadata": {
    "collapsed": true
   },
   "outputs": [],
   "source": []
  }
 ],
 "metadata": {
  "kernelspec": {
   "display_name": "Python 3",
   "language": "python",
   "name": "python3"
  },
  "language_info": {
   "codemirror_mode": {
    "name": "ipython",
    "version": 3
   },
   "file_extension": ".py",
   "mimetype": "text/x-python",
   "name": "python",
   "nbconvert_exporter": "python",
   "pygments_lexer": "ipython3",
   "version": "3.6.3"
  }
 },
 "nbformat": 4,
 "nbformat_minor": 2
}
