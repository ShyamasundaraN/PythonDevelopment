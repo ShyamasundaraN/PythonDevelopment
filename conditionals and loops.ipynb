{
 "cells": [
  {
   "cell_type": "markdown",
   "metadata": {},
   "source": [
    "# conditionals and loops"
   ]
  },
  {
   "cell_type": "code",
   "execution_count": 1,
   "metadata": {},
   "outputs": [
    {
     "name": "stdout",
     "output_type": "stream",
     "text": [
      "x = 2000\n",
      "y = 100\n",
      "x is Greater than y\n"
     ]
    }
   ],
   "source": [
    "x =2000\n",
    "y = 100\n",
    "\n",
    "if x>y:\n",
    "    print(\"x =\", x )\n",
    "    print(\"y =\", y )\n",
    "    print(\"x is Greater than y\")\n",
    "else :\n",
    "    print(\"x =\", x )\n",
    "    print(\"y =\", y )\n",
    "    print(\"x is less than y\")\n",
    "    "
   ]
  },
  {
   "cell_type": "code",
   "execution_count": 3,
   "metadata": {},
   "outputs": [
    {
     "name": "stdout",
     "output_type": "stream",
     "text": [
      "You are passed in the examinations by scoring 60.1 and secured grade B.\n"
     ]
    }
   ],
   "source": [
    "score=60.1\n",
    "#if--elif loop\n",
    "if score<100 and score>=90:\n",
    "    grade='S+'\n",
    "elif score<90 and score>=80:\n",
    "    grade='S'\n",
    "elif score<80 and score>=70:\n",
    "    grade='A'\n",
    "elif score<70 and score>=60:\n",
    "    grade='B'\n",
    "elif score<60 and score>=50:\n",
    "    grade='C'\n",
    "elif score<50 and score>=40:\n",
    "    grade='D'\n",
    "else:\n",
    "    grade='F'\n",
    "#if--else\n",
    "if grade=='F':\n",
    "    print(\"You have failed in examination.\")\n",
    "else:\n",
    "    print(\"You are passed in the examinations by scoring {0} and secured grade {1}.\".format(score,grade))"
   ]
  },
  {
   "cell_type": "code",
   "execution_count": 4,
   "metadata": {},
   "outputs": [
    {
     "name": "stdout",
     "output_type": "stream",
     "text": [
      "1+2+3+4+5+6+7+8+9+10+"
     ]
    }
   ],
   "source": [
    "#while\n",
    "n = 1\n",
    "while ( n <= 10 ):\n",
    "    print(n, end='+')\n",
    "    n = n + 1"
   ]
  },
  {
   "cell_type": "code",
   "execution_count": 5,
   "metadata": {},
   "outputs": [
    {
     "name": "stdout",
     "output_type": "stream",
     "text": [
      "1 4 9 16 25 36 49 64 81 100 121 144 169 196 225 256 289 324 361 400 441 484 529 576 625 676 729 784 841 900 961 1024 1089 1156 1225 1296 1369 1444 1521 1600 1681 1764 1849 1936 2025 2116 2209 2304 2401 2500 2601 2704 2809 2916 3025 3136 3249 3364 3481 3600 3721 3844 3969 4096 4225 4356 4489 4624 4761 4900 5041 5184 5329 5476 5625 5776 5929 6084 6241 6400 6561 6724 6889 7056 7225 7396 7569 7744 7921 8100 8281 8464 8649 8836 9025 9216 9409 9604 9801 10000 "
     ]
    }
   ],
   "source": [
    "num = 1\n",
    "while ( num <= 100 ):\n",
    "    sq = num ** 2\n",
    "    print(sq, end=' ')\n",
    "    num = num + 1"
   ]
  },
  {
   "cell_type": "code",
   "execution_count": 6,
   "metadata": {},
   "outputs": [
    {
     "name": "stdout",
     "output_type": "stream",
     "text": [
      "1 2 3 4 "
     ]
    },
    {
     "data": {
      "text/plain": [
       "tuple"
      ]
     },
     "execution_count": 6,
     "metadata": {},
     "output_type": "execute_result"
    }
   ],
   "source": [
    "tupp = ( 1, 2, 3, 4 )\n",
    "for n in tupp:\n",
    "    print(n, end=' ')\n",
    "\n",
    "type(tupp)"
   ]
  },
  {
   "cell_type": "code",
   "execution_count": 7,
   "metadata": {},
   "outputs": [
    {
     "name": "stdout",
     "output_type": "stream",
     "text": [
      "H e l l o   W o r l d "
     ]
    }
   ],
   "source": [
    "s = \"Hello World\"\n",
    "for c in s:\n",
    "    print(c, end=' ')"
   ]
  },
  {
   "cell_type": "code",
   "execution_count": 8,
   "metadata": {},
   "outputs": [
    {
     "name": "stdout",
     "output_type": "stream",
     "text": [
      "HHHHHHHHHH\n",
      "eeeeeeeeee\n",
      "llllllllll\n",
      "llllllllll\n",
      "oooooooooo\n",
      "WWWWWWWWWW\n",
      "oooooooooo\n",
      "rrrrrrrrrr\n",
      "llllllllll\n",
      "dddddddddd\n"
     ]
    }
   ],
   "source": [
    "ab = \"Hello World\"\n",
    "for c in ab:\n",
    "    if( c != ' '):\n",
    "        print(c * 10)"
   ]
  },
  {
   "cell_type": "code",
   "execution_count": 9,
   "metadata": {},
   "outputs": [
    {
     "name": "stdout",
     "output_type": "stream",
     "text": [
      "HelloWorld\n",
      "Hello"
     ]
    }
   ],
   "source": [
    "s = \"Hello World\"\n",
    "x = 0\n",
    "while( x < len(s) ):\n",
    "    if( s[x] == ' '):\n",
    "        x = x + 1\n",
    "        continue\n",
    "    print(s[x], end='')\n",
    "    x = x + 1\n",
    "print()\n",
    "x = 0\n",
    "while( x < len(s) ):\n",
    "    if( s[x] == ' '):\n",
    "        x = x + 1\n",
    "        break\n",
    "    print(s[x], end='')\n",
    "    x = x + 1\n"
   ]
  },
  {
   "cell_type": "code",
   "execution_count": 10,
   "metadata": {},
   "outputs": [
    {
     "name": "stdout",
     "output_type": "stream",
     "text": [
      "Hello World\n",
      "Done!\n"
     ]
    }
   ],
   "source": [
    "for c in s:\n",
    "    print(c, end='')\n",
    "else: print(\"\\nDone!\")\n"
   ]
  },
  {
   "cell_type": "code",
   "execution_count": 11,
   "metadata": {},
   "outputs": [
    {
     "data": {
      "text/plain": [
       "range"
      ]
     },
     "execution_count": 11,
     "metadata": {},
     "output_type": "execute_result"
    }
   ],
   "source": [
    "x = range(10)\n",
    "type(x)"
   ]
  },
  {
   "cell_type": "code",
   "execution_count": 12,
   "metadata": {},
   "outputs": [
    {
     "name": "stdout",
     "output_type": "stream",
     "text": [
      "[0, 1, 2, 3, 4, 5, 6, 7, 8, 9]\n"
     ]
    },
    {
     "data": {
      "text/plain": [
       "(0, 1, 2, 3, 4, 5, 6, 7, 8, 9)"
      ]
     },
     "execution_count": 12,
     "metadata": {},
     "output_type": "execute_result"
    }
   ],
   "source": [
    "print(list(x))\n",
    "tuple(x)\n"
   ]
  },
  {
   "cell_type": "code",
   "execution_count": 15,
   "metadata": {},
   "outputs": [
    {
     "name": "stdout",
     "output_type": "stream",
     "text": [
      "[0, 1, 2, 3, 4, 5, 6, 7, 8, 9]\n",
      "(0, 1, 2, 3, 4, 5, 6, 7, 8, 9)\n"
     ]
    }
   ],
   "source": [
    "a = range(5, 20 )\n",
    "print(list(a))\n",
    "print(tuple(a))"
   ]
  },
  {
   "cell_type": "code",
   "execution_count": 17,
   "metadata": {},
   "outputs": [
    {
     "name": "stdout",
     "output_type": "stream",
     "text": [
      "[5, 9, 13, 17, 21, 25, 29, 33, 37, 41, 45, 49]\n",
      "(5, 9, 13, 17, 21, 25, 29, 33, 37, 41, 45, 49)\n",
      "[5, 9, 13, 17, 21, 25, 29, 33, 37, 41, 45, 49]\n",
      "(5, 9, 13, 17, 21, 25, 29, 33, 37, 41, 45, 49)\n"
     ]
    }
   ],
   "source": [
    "b = range( 5, 50, 4 )\n",
    "print(list(b))\n",
    "print(tuple(b))\n",
    "a1=list(b)\n",
    "b1=tuple(b)\n",
    "print(a1)\n",
    "print(b1)"
   ]
  },
  {
   "cell_type": "code",
   "execution_count": null,
   "metadata": {
    "collapsed": true
   },
   "outputs": [],
   "source": []
  }
 ],
 "metadata": {
  "kernelspec": {
   "display_name": "Python 3",
   "language": "python",
   "name": "python3"
  },
  "language_info": {
   "codemirror_mode": {
    "name": "ipython",
    "version": 3
   },
   "file_extension": ".py",
   "mimetype": "text/x-python",
   "name": "python",
   "nbconvert_exporter": "python",
   "pygments_lexer": "ipython3",
   "version": "3.6.3"
  }
 },
 "nbformat": 4,
 "nbformat_minor": 2
}
